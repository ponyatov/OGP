{
 "cells": [
  {
   "cell_type": "markdown",
   "metadata": {},
   "source": [
    "# State Machine and Object Graph Programming"
   ]
  },
  {
   "cell_type": "markdown",
   "metadata": {},
   "source": [
    "shared project with Valeri Rakitine on the [eco-programming course](http://www.evaclick.ca/courses/course_01_eco-programming/)\n",
    "* (c) Valeri Rakitine https://www.linkedin.com/in/valrakitine/\n",
    "* (c) Dmitry Ponyatov <<dponyatov@gmail.com>>"
   ]
  },
  {
   "cell_type": "markdown",
   "metadata": {},
   "source": [
    "#### Install (Linux)\n",
    "\n",
    "```\n",
    "~$ git clone -o gh https://github.com/ponyatov/OGP.git\n",
    "~$ cd OGP\n",
    "~/OGP$ make install\n",
    "```\n",
    "#### Run\n",
    "```\n",
    "~/OGP$ make jupyter\n",
    "```\n",
    "or use Binder interactive session: https://mybinder.org/v2/gh/ponyatov/OGP/master?filepath=OGP.ipynb"
   ]
  },
  {
   "cell_type": "markdown",
   "metadata": {},
   "source": [
    "## Concept Programming"
   ]
  },
  {
   "cell_type": "markdown",
   "metadata": {},
   "source": [
    "CP here is a programming model described in the works of Enn Heraldovich Tyugu about model-based software development. It is not mean [the term by Alexsandr Stepanov](https://en.wikipedia.org/wiki/Concept_(generic_programming) ) here. The common idea is about making domain models describe the problem in a wide in the form of relation networks, and automatic program (code) synthesis from specifications to solve concrete tasks. This synthesis works over these networks using them as generic knowledge representation."
   ]
  },
  {
   "cell_type": "markdown",
   "metadata": {},
   "source": [
    "* http://www.cs.ioc.ee/~tyugu/\n",
    "* [Концептуальное программирование](https://ru.wikipedia.org/wiki/%D0%9A%D0%BE%D0%BD%D1%86%D0%B5%D0%BF%D1%82%D1%83%D0%B0%D0%BB%D1%8C%D0%BD%D0%BE%D0%B5_%D0%BF%D1%80%D0%BE%D0%B3%D1%80%D0%B0%D0%BC%D0%BC%D0%B8%D1%80%D0%BE%D0%B2%D0%B0%D0%BD%D0%B8%D0%B5)\n",
    "* Э.Х.Тыугу **Концептуальное программирование** [tyugu]\n",
    "* J. Symbolic Computation (1988) 5, 359-375\\ **The Programming System PRIZ** [sym88]\n",
    "* М.И.Кахро, А.П.Калья, Э.Х.Тыугу **Инструментальная система программирования ПРИЗ** [priz]"
   ]
  },
  {
   "cell_type": "code",
   "execution_count": 1,
   "metadata": {},
   "outputs": [],
   "source": [
    "import os, sys\n",
    "from graphviz import Digraph"
   ]
  },
  {
   "cell_type": "markdown",
   "metadata": {},
   "source": [
    "## Base Node Class"
   ]
  },
  {
   "cell_type": "markdown",
   "metadata": {},
   "source": [
    "The core of the graph interpreter system is a homoiconic model uses a directed graph of objects as both program and data representation. The idea was taken from [1] and extended with the ability to store not only slots (attributes) but also hold any frames in an ordered container.\n",
    "* https://www.youtube.com/watch?v=nXJ_2uGWM-M\n",
    "\n",
    "Frames originated as a technology used for knowledge representation in artificial intelligence. They are very close to objects and class hierarchies in object-oriented languages although their fundamental design goals are different. Frames are focused on the explicit and intuitive representation of knowledge whereas objects focus on encapsulation and binding data with processing procedures. Original Marvin Minsky's concept *lacks some principal features for software design*, so it must be extended with the ability to *store sequential collections*.\n",
    "\n",
    "In practice, the techniques and capabilities of the frame model and object-oriented languages overlap significantly so much as we can treat frames not only a native superset of OOP but they drastically extend object design concepts wider: we can represent any knowledge in frames, and use any programming paradigms as we desire."
   ]
  },
  {
   "cell_type": "code",
   "execution_count": 2,
   "metadata": {},
   "outputs": [],
   "source": [
    "class Frame:\n",
    "    def __init__(self, V):\n",
    "        # scalar data value\n",
    "        # mostly names the frame, but also can store things like numbers and strings\n",
    "        self.val = V\n",
    "        # named slots = attributes = string-keyed associative array\n",
    "        self.slot = {}\n",
    "        # ordered storage = program AST nested elemens = vector = stack\n",
    "        self.nest = []\n",
    "        # unique storage id (Redis,RDBMS,..)\n",
    "        self.sid = '@%x' % id(self)"
   ]
  },
  {
   "cell_type": "markdown",
   "metadata": {},
   "source": [
    "This data node structure which combines named slots with the ordered collection is definitively required for representing any program source code, as this is very close to classical AST and attribute grammar but uses graph in place of the attributed tree. The object graph (frame) representation of a program as a primary form is effective and *native for any work involved with source code transformations*: synthesis, modifications, analysis, cross-language translation, etc."
   ]
  },
  {
   "cell_type": "markdown",
   "metadata": {},
   "source": [
    "Factically, **we don't require any text programming language at all**, as this *Executable Data Structure* can\n",
    "* hold any program statically (as storage),\n",
    "* be executed by the EDS-interpreter, so it is *active data*\n",
    "* translated into any mainstream language or\n",
    "* [cross-]compiled into machine code."
   ]
  },
  {
   "cell_type": "markdown",
   "metadata": {},
   "source": [
    "### Homoiconic programming model"
   ]
  },
  {
   "cell_type": "markdown",
   "metadata": {},
   "source": [
    "**Homoiconicity** is a property of a programming language in which any program is simultaneously\n",
    "* an easy to modify *data structure*, and\n",
    "* an *executable program representation* (program source code).\n",
    "\n",
    "In a homoiconic language, a programmer does not just have access to the source code, but the language itself specifically provides tools and easy to use methods for convenient work with parts of programs (represented as generic data) in runtime.\n",
    "* Say, if you include source code of your program in C++ into the distribution package, you can work with the program code as data, but only at the level of text files, or using third-party analysis libraries. In the C++ language itself, there are no dedicated tools for reading, modifying, or generating source code.\n",
    "* Conversely, in the Lisp language, all programs are represented in the form of executable lists -- these lists are simultaneously a program and the usual universal data structure for working with which the language was specially created."
   ]
  },
  {
   "cell_type": "markdown",
   "metadata": {},
   "source": [
    "### EDS Interpreter"
   ]
  },
  {
   "cell_type": "markdown",
   "metadata": {},
   "source": [
    "In order to use the advantages of homoiconicity in your programs written in any conventional languages (C++, Java,..), you need to integrate an EDS-interpreter into your programs that will\n",
    "* *execute some data structure as a program*, and additionally\n",
    "* provides high-level *tools for modifying it* in runtime.\n",
    "\n",
    "It is not necessary that this interpreter should include a parser of some scripting language, as graph structure can be generated by code in the *implementation* language, and structure self-transformation. To create a program in such a system, you only need to have any way to create an executable data structure in memory: it can be GUI-based drawing, text format parser, external graph database, or some C++ code that forces the compiler to include such a structure in the executable file statically."
   ]
  },
  {
   "cell_type": "markdown",
   "metadata": {},
   "source": [
    "### Metaprogramming"
   ]
  },
  {
   "cell_type": "markdown",
   "metadata": {},
   "source": [
    "Metaprogramming -- when one program modifies (generates) another program, including itself.\n",
    "\n",
    "Metaprogramming is a method of boosting your efficiency as a programmer by expanding the language you use. If you write very similar code every day, in languages ​​that can do meta (Lisp, Nim), you can write small macro programs that will run during the compilation stage, and generate new code by a template, or modify an existing code the way as you need it. Factically, you can add to the language those features that are needed for a narrow set of your specific tasks.\n",
    "\n",
    "In order to be able to use metaprogramming in a full scale, the language or programming system you are using must be homoiconic. If you want to use this method with industrial programming languages, the use of an EDS interpreter will allow you to quickly and conveniently solve your problems, paying for it with some losses in the speed of programs and memory usage (see a comparison of interpreters vs the compilers into machine code)."
   ]
  },
  {
   "cell_type": "markdown",
   "metadata": {},
   "source": [
    "## Dump and plot"
   ]
  },
  {
   "cell_type": "markdown",
   "metadata": {},
   "source": [
    "To display an object graph in a human-readable form, we need a way to print in a text form and show it in a graphical plot."
   ]
  },
  {
   "cell_type": "markdown",
   "metadata": {},
   "source": [
    "### Text tree dump"
   ]
  },
  {
   "cell_type": "code",
   "execution_count": 3,
   "metadata": {},
   "outputs": [],
   "source": [
    "class Frame(Frame):\n",
    "\n",
    "    # callback for print\n",
    "    def __repr__(self): return self.dump(test=True)\n",
    "\n",
    "    # full tree dump\n",
    "    def dump(self, done=None, depth=0, prefix='', test=False):\n",
    "        # subtree header\n",
    "        tree = self.pad(depth) + self.head(prefix, test)\n",
    "        # block infinitive recursion on graph cycles\n",
    "        if not done:\n",
    "            done = set()  # initialize in the recursion root\n",
    "        if self in done:\n",
    "            return tree + ' _/'\n",
    "        else:\n",
    "            done.add(self)\n",
    "        # slot{}s\n",
    "        for i in self.slot:\n",
    "            tree += self.slot[i].dump(done, depth+1, '%s = ' % i, test)\n",
    "        # nest[]ed\n",
    "        idx = 0\n",
    "        for j in self.nest:\n",
    "            tree += j.dump(done, depth+1, '%s = ' % idx, test)\n",
    "            idx += 1\n",
    "        # resulting subtree\n",
    "        return tree\n",
    "\n",
    "    # short-form dump: <T:V> header only\n",
    "    def head(self, prefix='', test=False):\n",
    "        header = '%s<%s:%s>' % (prefix, self._type(), self._val())\n",
    "        if not test:\n",
    "            header += ' %s' % self.sid\n",
    "        return header\n",
    "\n",
    "    # tree padding\n",
    "    def pad(self, depth): return '\\n' + '\\t' * depth\n",
    "\n",
    "    # type/class tag\n",
    "    def _type(self): return self.__class__.__name__.lower()\n",
    "\n",
    "    # .val dump must be tunable for strings, numbers,..\n",
    "    def _val(self): return '%s' % self.val"
   ]
  },
  {
   "cell_type": "code",
   "execution_count": 4,
   "metadata": {},
   "outputs": [
    {
     "name": "stdout",
     "output_type": "stream",
     "text": [
      "\n",
      "<frame:Hello>\n"
     ]
    }
   ],
   "source": [
    "# test\n",
    "hello = Frame('Hello')\n",
    "print(hello)"
   ]
  },
  {
   "cell_type": "markdown",
   "metadata": {},
   "source": [
    "### Plot /graphviz/"
   ]
  },
  {
   "cell_type": "code",
   "execution_count": 5,
   "metadata": {},
   "outputs": [],
   "source": [
    "class Frame(Frame):\n",
    "    # recursive traversal with graphviz calls\n",
    "    def plot(self, done=None, dot=None, depth=0, parent=None, link='', color='black', file=None):\n",
    "        def n(frame): return '\\\"%s\\\"' % frame.sid\n",
    "        # block cycles\n",
    "        if not done:\n",
    "            done = set()  # initialize in the recursion root\n",
    "        if self in done:\n",
    "            return dot\n",
    "        else:\n",
    "            done.add(self)\n",
    "        # init plot\n",
    "        if not dot:\n",
    "            dot = Digraph(format='dot', graph_attr={'rankdir': 'LR'})\n",
    "        # node\n",
    "        dot.node(n(self), label=self.head(test=True))\n",
    "        # parent edge\n",
    "        if parent:\n",
    "            dot.edge(n(parent), n(self), label=link, color=color)\n",
    "        # slot{}s\n",
    "        for i in self.slot:\n",
    "            self.slot[i].plot(done, dot, depth+1, self,\n",
    "                              link=i, color='blue')\n",
    "        # nest[]ed\n",
    "        idx = 0\n",
    "        for j in self.nest:\n",
    "            j.plot(done, dot, depth+1, self,\n",
    "                   link='/%s' % idx, color='red')\n",
    "            idx += 1\n",
    "        # subgraph\n",
    "        if depth:\n",
    "            return dot\n",
    "        else: # in recursion root\n",
    "            if not file:\n",
    "                return dot"
   ]
  },
  {
   "cell_type": "markdown",
   "metadata": {},
   "source": [
    "### Operators"
   ]
  },
  {
   "cell_type": "markdown",
   "metadata": {},
   "source": [
    "For ease of graph construction, we need to define a set of operators for frames to use in a Python code."
   ]
  },
  {
   "cell_type": "code",
   "execution_count": 6,
   "metadata": {},
   "outputs": [],
   "source": [
    "class Frame(Frame):\n",
    "\n",
    "    # A[key]\n",
    "    def __getitem__(self, key): return self.slot[key]\n",
    "\n",
    "    # A[key] = B\n",
    "    def __setitem__(self, key, that):\n",
    "        self.slot[key] = that\n",
    "        return self\n",
    "\n",
    "    # A << B --> A[B.type] = B\n",
    "    def __lshift__(self, that):\n",
    "        return self.__setitem__(that._type(), that)\n",
    "\n",
    "    # A >> B --> A[B.val] = B\n",
    "    def __rshift__(self, that):\n",
    "        return self.__setitem__(that.val, that)\n",
    "\n",
    "    # A // B\n",
    "    def __floordiv__(self, that):\n",
    "        self.nest.append(that)\n",
    "        return self"
   ]
  },
  {
   "cell_type": "code",
   "execution_count": 7,
   "metadata": {},
   "outputs": [
    {
     "name": "stdout",
     "output_type": "stream",
     "text": [
      "\n",
      "<frame:Hello>\n",
      "\tframe = <frame:left>\n",
      "\tright = <frame:right>\n",
      "\t0 = <frame:World>\n"
     ]
    },
    {
     "data": {
      "image/svg+xml": [
       "<?xml version=\"1.0\" encoding=\"UTF-8\" standalone=\"no\"?>\n",
       "<!DOCTYPE svg PUBLIC \"-//W3C//DTD SVG 1.1//EN\"\n",
       " \"http://www.w3.org/Graphics/SVG/1.1/DTD/svg11.dtd\">\n",
       "<!-- Generated by graphviz version 2.40.1 (20161225.0304)\n",
       " -->\n",
       "<!-- Title: %3 Pages: 1 -->\n",
       "<svg width=\"299pt\" height=\"152pt\"\n",
       " viewBox=\"0.00 0.00 299.28 152.00\" xmlns=\"http://www.w3.org/2000/svg\" xmlns:xlink=\"http://www.w3.org/1999/xlink\">\n",
       "<g id=\"graph0\" class=\"graph\" transform=\"scale(1 1) rotate(0) translate(4 148)\">\n",
       "<title>%3</title>\n",
       "<polygon fill=\"#ffffff\" stroke=\"transparent\" points=\"-4,4 -4,-148 295.2803,-148 295.2803,4 -4,4\"/>\n",
       "<!-- &quot;@7f093832a6a0&quot; -->\n",
       "<g id=\"node1\" class=\"node\">\n",
       "<title>&quot;@7f093832a6a0&quot;</title>\n",
       "<ellipse fill=\"none\" stroke=\"#000000\" cx=\"53.9452\" cy=\"-72\" rx=\"53.8905\" ry=\"18\"/>\n",
       "<text text-anchor=\"start\" x=\"20.4452\" y=\"-68.3\" font-family=\"Times,serif\" font-size=\"14.00\" fill=\"#000000\">frame:Hello</text>\n",
       "</g>\n",
       "<!-- &quot;@7f093832a6d8&quot; -->\n",
       "<g id=\"node2\" class=\"node\">\n",
       "<title>&quot;@7f093832a6d8&quot;</title>\n",
       "<ellipse fill=\"none\" stroke=\"#000000\" cx=\"234.0854\" cy=\"-126\" rx=\"46.2923\" ry=\"18\"/>\n",
       "<text text-anchor=\"start\" x=\"206.5854\" y=\"-122.3\" font-family=\"Times,serif\" font-size=\"14.00\" fill=\"#000000\">frame:left</text>\n",
       "</g>\n",
       "<!-- &quot;@7f093832a6a0&quot;&#45;&gt;&quot;@7f093832a6d8&quot; -->\n",
       "<g id=\"edge1\" class=\"edge\">\n",
       "<title>&quot;@7f093832a6a0&quot;&#45;&gt;&quot;@7f093832a6d8&quot;</title>\n",
       "<path fill=\"none\" stroke=\"#0000ff\" d=\"M94.3722,-84.1187C122.0243,-92.4078 158.7548,-103.4184 187.6147,-112.0697\"/>\n",
       "<polygon fill=\"#0000ff\" stroke=\"#0000ff\" points=\"186.8829,-115.5041 197.4668,-115.023 188.8929,-108.7989 186.8829,-115.5041\"/>\n",
       "<text text-anchor=\"middle\" x=\"142.3904\" y=\"-105.8\" font-family=\"Times,serif\" font-size=\"14.00\" fill=\"#000000\">frame</text>\n",
       "</g>\n",
       "<!-- &quot;@7f093832a5c0&quot; -->\n",
       "<g id=\"node3\" class=\"node\">\n",
       "<title>&quot;@7f093832a5c0&quot;</title>\n",
       "<ellipse fill=\"none\" stroke=\"#000000\" cx=\"234.0854\" cy=\"-72\" rx=\"50.8918\" ry=\"18\"/>\n",
       "<text text-anchor=\"start\" x=\"203.0854\" y=\"-68.3\" font-family=\"Times,serif\" font-size=\"14.00\" fill=\"#000000\">frame:right</text>\n",
       "</g>\n",
       "<!-- &quot;@7f093832a6a0&quot;&#45;&gt;&quot;@7f093832a5c0&quot; -->\n",
       "<g id=\"edge2\" class=\"edge\">\n",
       "<title>&quot;@7f093832a6a0&quot;&#45;&gt;&quot;@7f093832a5c0&quot;</title>\n",
       "<path fill=\"none\" stroke=\"#0000ff\" d=\"M107.9932,-72C128.4774,-72 151.9377,-72 173.0235,-72\"/>\n",
       "<polygon fill=\"#0000ff\" stroke=\"#0000ff\" points=\"173.1605,-75.5001 183.1604,-72 173.1604,-68.5001 173.1605,-75.5001\"/>\n",
       "<text text-anchor=\"middle\" x=\"142.3904\" y=\"-75.8\" font-family=\"Times,serif\" font-size=\"14.00\" fill=\"#000000\">right</text>\n",
       "</g>\n",
       "<!-- &quot;@7f093832a780&quot; -->\n",
       "<g id=\"node4\" class=\"node\">\n",
       "<title>&quot;@7f093832a780&quot;</title>\n",
       "<ellipse fill=\"none\" stroke=\"#000000\" cx=\"234.0854\" cy=\"-18\" rx=\"57.3905\" ry=\"18\"/>\n",
       "<text text-anchor=\"start\" x=\"198.0854\" y=\"-14.3\" font-family=\"Times,serif\" font-size=\"14.00\" fill=\"#000000\">frame:World</text>\n",
       "</g>\n",
       "<!-- &quot;@7f093832a6a0&quot;&#45;&gt;&quot;@7f093832a780&quot; -->\n",
       "<g id=\"edge3\" class=\"edge\">\n",
       "<title>&quot;@7f093832a6a0&quot;&#45;&gt;&quot;@7f093832a780&quot;</title>\n",
       "<path fill=\"none\" stroke=\"#ff0000\" d=\"M94.3722,-59.8813C120.5396,-52.0372 154.8368,-41.7561 182.9007,-33.3435\"/>\n",
       "<polygon fill=\"#ff0000\" stroke=\"#ff0000\" points=\"183.9699,-36.6769 192.5438,-30.4528 181.9599,-29.9717 183.9699,-36.6769\"/>\n",
       "<text text-anchor=\"middle\" x=\"142.3904\" y=\"-52.8\" font-family=\"Times,serif\" font-size=\"14.00\" fill=\"#000000\">/0</text>\n",
       "</g>\n",
       "</g>\n",
       "</svg>\n"
      ],
      "text/plain": [
       "<graphviz.dot.Digraph at 0x7f093832a5f8>"
      ]
     },
     "execution_count": 7,
     "metadata": {},
     "output_type": "execute_result"
    }
   ],
   "source": [
    "hello = Frame('Hello')\n",
    "world = hello // Frame('World') << Frame('left') >> Frame('right')\n",
    "print(world)\n",
    "world.plot()"
   ]
  },
  {
   "cell_type": "markdown",
   "metadata": {},
   "source": [
    "### Stack operations"
   ]
  },
  {
   "cell_type": "markdown",
   "metadata": {},
   "source": [
    "`nest[]` part of the `Frame` object can work both as vector and stack, so to manipulate with this stack we need to define a set of methods, will be used later in the FORTH-like language demo."
   ]
  },
  {
   "cell_type": "markdown",
   "metadata": {},
   "source": [
    "Stack effect if comments were taken from FORTH: `( before -- after )`\n",
    "* stack state is written in `( parens )`\n",
    "* `before` is a top of stack state, the rightmost element is the top element on the stack\n",
    "* `after` part shows stack state after some function/word execution\n",
    "* the optional element after `->` shows return value from the Python method\n",
    "  * if there is no `->` method returns the object itself which contains a modified stack"
   ]
  },
  {
   "cell_type": "code",
   "execution_count": 20,
   "metadata": {},
   "outputs": [],
   "source": [
    "class Frame(Frame):\n",
    "\n",
    "    # ( 1 2 3 -- 1 2 3 ) -> 3\n",
    "    def top(self): return self.nest[-1]\n",
    "    # ( 1 2 3 -- 1 2 3 ) -> 2\n",
    "    def tip(self): return self.nest[-2]\n",
    "    # ( 1 2 3 -- 1 2 ) -> 3\n",
    "    def pop(self): return self.nest.pop(-1)\n",
    "    # ( 1 2 3 -- 1 3 ) -> 2\n",
    "    def pip(self): return self.nest.pop(-2)\n",
    "\n",
    "    # ( 1 2 3 -- 1 2 3 3 )\n",
    "    def dup(self): return self // self.top()\n",
    "    # ( 1 2 3 -- 1 2 )\n",
    "    def drop(self): self.pop(); return self\n",
    "    # ( 1 2 3 -- 1 3 2 )\n",
    "    def swap(self): return self // self.pip()\n",
    "    # ( 1 2 3 -- 1 2 3 2 )\n",
    "    def over(self): return self // self.tip()\n",
    "    # ( 1 2 3 -- 1 3 )\n",
    "    def press(self): self.pip(); return self\n",
    "    # ( 1 2 3 -- )\n",
    "    def dot(self): self.nest = []; return self"
   ]
  },
  {
   "cell_type": "markdown",
   "metadata": {},
   "source": [
    "## Meta"
   ]
  },
  {
   "cell_type": "code",
   "execution_count": 9,
   "metadata": {},
   "outputs": [],
   "source": [
    "class Meta(Frame): pass"
   ]
  },
  {
   "cell_type": "code",
   "execution_count": 10,
   "metadata": {},
   "outputs": [
    {
     "data": {
      "image/svg+xml": [
       "<?xml version=\"1.0\" encoding=\"UTF-8\" standalone=\"no\"?>\n",
       "<!DOCTYPE svg PUBLIC \"-//W3C//DTD SVG 1.1//EN\"\n",
       " \"http://www.w3.org/Graphics/SVG/1.1/DTD/svg11.dtd\">\n",
       "<!-- Generated by graphviz version 2.40.1 (20161225.0304)\n",
       " -->\n",
       "<!-- Title: %3 Pages: 1 -->\n",
       "<svg width=\"115pt\" height=\"44pt\"\n",
       " viewBox=\"0.00 0.00 114.59 44.00\" xmlns=\"http://www.w3.org/2000/svg\" xmlns:xlink=\"http://www.w3.org/1999/xlink\">\n",
       "<g id=\"graph0\" class=\"graph\" transform=\"scale(1 1) rotate(0) translate(4 40)\">\n",
       "<title>%3</title>\n",
       "<polygon fill=\"#ffffff\" stroke=\"transparent\" points=\"-4,4 -4,-40 110.5905,-40 110.5905,4 -4,4\"/>\n",
       "<!-- &quot;@7f093832a2b0&quot; -->\n",
       "<g id=\"node1\" class=\"node\">\n",
       "<title>&quot;@7f093832a2b0&quot;</title>\n",
       "<ellipse fill=\"none\" stroke=\"#000000\" cx=\"53.2953\" cy=\"-18\" rx=\"53.0913\" ry=\"18\"/>\n",
       "<text text-anchor=\"start\" x=\"20.2953\" y=\"-14.3\" font-family=\"Times,serif\" font-size=\"14.00\" fill=\"#000000\">class:Frame</text>\n",
       "</g>\n",
       "</g>\n",
       "</svg>\n"
      ],
      "text/plain": [
       "<graphviz.dot.Digraph at 0x7f093832a438>"
      ]
     },
     "execution_count": 10,
     "metadata": {},
     "output_type": "execute_result"
    }
   ],
   "source": [
    "class Class(Meta): pass\n",
    "\n",
    "frame = Class('Frame')\n",
    "frame.plot()"
   ]
  },
  {
   "cell_type": "markdown",
   "metadata": {},
   "source": [
    "## Primitive types"
   ]
  },
  {
   "cell_type": "markdown",
   "metadata": {},
   "source": [
    "Primitive types can be implemented at a low level close to machine hardware, or language primitives, runtime, and core library from the viewpoint of the implementation (target) language in code synthesis."
   ]
  },
  {
   "cell_type": "code",
   "execution_count": 11,
   "metadata": {},
   "outputs": [],
   "source": [
    "prim = Class('Primitive') ; prim['super'] = frame\n",
    "symbol = Class('Symbol') ; prim // symbol\n",
    "string = Class('String') ; prim // string\n",
    "number = Class('Number') ; prim // number\n",
    "number // ( Class('Integer') // Class('Hex') // Class('Bin') )\n",
    "prim.plot(file='img/prim.png')"
   ]
  },
  {
   "cell_type": "code",
   "execution_count": 12,
   "metadata": {},
   "outputs": [],
   "source": [
    "class Primitive(Frame): pass\n",
    "class Symbol(Primitive): pass\n",
    "class String(Primitive): pass"
   ]
  },
  {
   "cell_type": "code",
   "execution_count": 13,
   "metadata": {},
   "outputs": [
    {
     "data": {
      "text/plain": [
       "\n",
       "<number:12.34>"
      ]
     },
     "execution_count": 13,
     "metadata": {},
     "output_type": "execute_result"
    }
   ],
   "source": [
    "class Number(Primitive):\n",
    "    def __init__(self, V): Primitive.__init__(self, float(V))\n",
    "\n",
    "Number('+012.340')"
   ]
  },
  {
   "cell_type": "code",
   "execution_count": 14,
   "metadata": {},
   "outputs": [
    {
     "data": {
      "text/plain": [
       "\n",
       "<integer:1234>"
      ]
     },
     "execution_count": 14,
     "metadata": {},
     "output_type": "execute_result"
    }
   ],
   "source": [
    "class Integer(Number):\n",
    "    def __init__(self, V): Primitive.__init__(self, int(V))\n",
    "\n",
    "Integer('+01234')"
   ]
  },
  {
   "cell_type": "code",
   "execution_count": 15,
   "metadata": {},
   "outputs": [
    {
     "data": {
      "text/plain": [
       "\n",
       "<hex:0xdeadbeef>"
      ]
     },
     "execution_count": 15,
     "metadata": {},
     "output_type": "execute_result"
    }
   ],
   "source": [
    "class Hex(Integer):\n",
    "    def __init__(self, V): Primitive.__init__(self, int(V[2:], 0x10))\n",
    "    def _val(self): return hex(self.val)\n",
    "\n",
    "Hex('0xDeadBeef')"
   ]
  },
  {
   "cell_type": "code",
   "execution_count": 16,
   "metadata": {},
   "outputs": [
    {
     "data": {
      "text/plain": [
       "\n",
       "<bin:0b1101>"
      ]
     },
     "execution_count": 16,
     "metadata": {},
     "output_type": "execute_result"
    }
   ],
   "source": [
    "class Bin(Integer):\n",
    "    def __init__(self, V): Primitive.__init__(self, int(V[2:], 0x02))\n",
    "    def _val(self): return bin(self.val)\n",
    "\n",
    "Bin('0b1101')"
   ]
  },
  {
   "cell_type": "markdown",
   "metadata": {},
   "source": [
    "## Stack Machine Interpreter (FORTH)"
   ]
  },
  {
   "cell_type": "markdown",
   "metadata": {},
   "source": [
    "* [starting] https://www.forth.com/starting-forth/\n",
    "\n",
    "The Forth programming language is well known as the simplest programming language that can ever be from the viewpoint of the implementation (not programming in it). While you are reading some manual on it such as [starting] or [kelly] you have a feel of understanding how it works inside in case you already have any experience in programming.\n",
    "\n",
    "Forth is not intended to be used as a general-purpose language, it is ugly in this role (see disadvantages later). But, due to its internal simplicity, it stays unbeatable as a command interpreter (CLI shell) and config file parser/interpreter. One of the best usages is using FORTH as a command interface on microcontroller-based devices works over the UART serial port. The language was first designed as a macro system for direct low-level programming of radiotelescope hardware in place of assembler. Its design was great at that moment, having few kilobytes of RAM in a system, provides interactive and programmable command shell. And it still stays good for this narrow use case."
   ]
  },
  {
   "cell_type": "markdown",
   "metadata": {},
   "source": [
    "What makes Forth unusable, and should be avoided if possible in our sample demo:\n",
    "* **direct byte-level memory addressing**<br>most implementations use a single writable memory area which contains both machine/threaded code and data; any error in a program can write random executable code which guarantees system fault (in the best case) and unpredictable data corrupt<br>this biggest problem can be fixed by using symbolic `.slot{}` names in place of random integer addresses\n",
    "* **lack of any data types**<br>besides integers, bytes, and byte-counted strings, there are no floating-point numbers (optional!), and any other data structures must be programmed at a machine level<br>using `Frame`-based objects will save us from this hell\n",
    "* **Forth is no-syntax language**<br>any group of non-space characters is a legal Forth command (word) name or integer number; interpreter parses these groups one by one and executes it in place every time it sees next word name<br>factically, *it is not a problem but the most advantage of Forth*: parser is extra simple and need only dozen machine commands to work\n",
    "* **postfix notation**<br>it's a primary huge problem which makes source code unreadable; while Forth executes commands (words) one by one, there is no way to code things like math statements in a readable form, all code is full of stack fluffing and memory byte banging\n",
    "* **lack of libraries and compatibility between different systems**<br>It's a tradition that every Forth programmer writes his own Forth system incompatible with every other. So, not a surprise that incompatibility makes writing libraries a questionable thing. Most popular systems with big communities have a chance to have common libraries, but it's level so low that most times it is better to write your own yet another Forth in C then using assembly and direct .dll calls. Here we have Python with batteries included."
   ]
  },
  {
   "cell_type": "markdown",
   "metadata": {},
   "source": [
    "We'll not avoid postfix no-syntax and stack manipulations: our goal here to show how you can brew your own programming language in a few hours (maybe in assembly). To do it the system must be cutted down to the most simple shape:\n",
    "* extra simple parser (lexer only), \n",
    "* **stack** for data in `.nest[]`, and \n",
    "* global single **vocabulary** in `.slot{}` for variables and command definitions."
   ]
  },
  {
   "cell_type": "markdown",
   "metadata": {},
   "source": [
    "Easy to guess and fun to mess that any Frame-inherited object can act as a Forth Virtual Machine (FVM): any object graph element has its own stack and vocabulary hardcoded into the base node class. Moreover, computations on a stack when you push data, run operations on top elements, and pop results are so fundamental in compiler/interpreter programming and computer language design, as all mainstream languages such as Java, C#, and Python uses this stack architecture almost in every VM internals."
   ]
  },
  {
   "cell_type": "markdown",
   "metadata": {},
   "source": [
    "### Active (Executable) Data"
   ]
  },
  {
   "cell_type": "markdown",
   "metadata": {},
   "source": [
    "We'll introduce the special subset of data types which has an ability to be executed. **Execution** is the fundamental entity described by lambda calculus, which is also unsplittable from the next concept -- **execution context** `ctx` which holds the state between every elementary computation step. Not a surprise that context must include as a minimum both **environment** (vocabulary) and **stack**."
   ]
  },
  {
   "cell_type": "code",
   "execution_count": 17,
   "metadata": {},
   "outputs": [],
   "source": [
    "# executable data\n",
    "class Active(Frame): pass\n",
    "# [FORTH] Virtual Machine\n",
    "class VM(Active): pass"
   ]
  },
  {
   "cell_type": "code",
   "execution_count": 18,
   "metadata": {},
   "outputs": [
    {
     "data": {
      "text/plain": [
       "\n",
       "<vm:FORTH>\n",
       "\tvm = <vm:FORTH> _/"
      ]
     },
     "execution_count": 18,
     "metadata": {},
     "output_type": "execute_result"
    }
   ],
   "source": [
    "vm = VM('FORTH') ; vm << vm"
   ]
  },
  {
   "cell_type": "code",
   "execution_count": 19,
   "metadata": {},
   "outputs": [
    {
     "data": {
      "text/plain": [
       "\n",
       "<vm:FORTH>\n",
       "\tvm = <vm:FORTH> _/\n",
       "\tBYE = <command:BYE>"
      ]
     },
     "execution_count": 19,
     "metadata": {},
     "output_type": "execute_result"
    }
   ],
   "source": [
    "# wrapper class for Python functions\n",
    "class Command(Active):\n",
    "    def __init__(self,F):\n",
    "        Active.__init__(self,F.__name__)\n",
    "        self.fn = F # wrap\n",
    "    def eval(self,ctx):\n",
    "        return self.fn(ctx) # run wrapped\n",
    "\n",
    "def BYE(ctx): sys.exit(0)\n",
    "vm >> Command(BYE)"
   ]
  },
  {
   "cell_type": "markdown",
   "metadata": {},
   "source": [
    "## metaL: [meta]programming [L]anguage"
   ]
  },
  {
   "cell_type": "markdown",
   "metadata": {},
   "source": [
    "The `metaL` is not about the syntax of programs written in plain text files such as used by most traditional programming languages. In a reverse, It is an experimental concept of a programming language without language syntax, files, and parsing. The idea was:"
   ]
  },
  {
   "cell_type": "markdown",
   "metadata": {},
   "source": [
    "* Is it possible and a handful to implement a programming system that directly uses some data structure in memory as a program specification, without any source code in plain text files?\n",
    "* What effects and impact on programming habits will be in case of programs able to be modified in runtime by itself and maybe by a user? Will the real metaprogramming be a powerful magic weapon able to beat C++ and Java in their fatherlands, or it will introduce a lot of errors and problems?\n",
    "* Can the parsing stage which presents practically in any programming language compiler/interpreter be totally avoided? This can be done by using your host language (Python, Java,..) to create a program graph in memory in runtime, or at a compile stage. But how painless will be the use of language was not especially targetted on graph construction and manipulations?\n",
    "* Is concept programming idea alive? What are changes if we mix the system's code, specification, and documentation in a single active knowledge graph, and use the knowledge but not source code for software design?"
   ]
  },
  {
   "cell_type": "markdown",
   "metadata": {},
   "source": [
    "metaL not a language with its own syntax, but a set of principles for homoiconic and symbolic programming system design. It is provided as a tutorial with step by step understanding and implementation of universal runtime, which contains elements of procedural, functional, logic, message passing, data flow, and any other programming. If you want some feature, you should be able to add it itself, or with a help of the open community."
   ]
  },
  {
   "cell_type": "markdown",
   "metadata": {},
   "source": [
    "### Syntax-based data input"
   ]
  },
  {
   "cell_type": "markdown",
   "metadata": {},
   "source": [
    "* What will happens if we allow the user to specify his own arbitrary programming language syntax he wants to use?"
   ]
  },
  {
   "cell_type": "markdown",
   "metadata": {},
   "source": [
    "Program specification in plain text source code still here dozens of years, as it showed itself as a good enough practice. Even if we move to alternative programming, storing data in human-readable ASCII files is known as the best approach for cross-system exchange. If we want to have the ability to use any syntax for programming or data input, we should find a powerful method to do it."
   ]
  },
  {
   "cell_type": "markdown",
   "metadata": {},
   "source": [
    "You can found this manual too highly biased to interpreters and compilers programming. It is not only because of pitching the [secret weapon](http://www.paulgraham.com/avg.html) but compiler programming is widely known as a complex enough area that uses multiple state machine types and graph-like data structures as its main methods."
   ]
  },
  {
   "cell_type": "markdown",
   "metadata": {},
   "source": [
    "* typical compiler scheme\n",
    "\n",
    "![](img/compiler.png)"
   ]
  },
  {
   "cell_type": "markdown",
   "metadata": {},
   "source": [
    "## Hierarchical State Machines"
   ]
  },
  {
   "cell_type": "markdown",
   "metadata": {},
   "source": [
    "* [Бесконечные возможности конечных автоматов | Введение в \"eco-programming\"](https://www.youtube.com/watch?v=6xzn78onzQk) /video/\n",
    "* [psicc2] Book on using HSM approach for embedded reactive software development by Miro Samek"
   ]
  },
  {
   "cell_type": "markdown",
   "metadata": {},
   "source": [
    "## Graph Matching and Transformations"
   ]
  },
  {
   "cell_type": "markdown",
   "metadata": {},
   "source": [
    "Some ideas about the power of pattern matching and declarative programming via graph transformations:\n",
    "* Professor Richard J. Gaylord's<br>**Wolfram Language Fundamentals** \n",
    "  * [Part One](https://www.youtube.com/watch?v=H-rnezxOCA8) /video/"
   ]
  },
  {
   "cell_type": "markdown",
   "metadata": {},
   "source": [
    "## Distributed Programming"
   ]
  },
  {
   "cell_type": "markdown",
   "metadata": {},
   "source": [
    "* parallelization\n",
    "* distribution\n",
    "* computation balancing"
   ]
  },
  {
   "cell_type": "markdown",
   "metadata": {},
   "source": [
    "### DataFlow programming"
   ]
  },
  {
   "cell_type": "markdown",
   "metadata": {},
   "source": [
    "* Marvin Humphrey **Dataflow Programming** /[video](https://www.youtube.com/watch?v=aPh4Z3SioB8)/\n",
    "  * Wesley M. Johnston, J.R. Paul Hanna, Richard J. Millar<br>**Advances in Dataflow Programming Languages** [pdf](http://www.cs.ucf.edu/~dcm/Teaching/COT4810-Spring2011/Literature/DataFlowProgrammingLanguages.pdf)\n",
    "* [lucid] William W. Wadge **Lucid, the dataflow programming language**"
   ]
  },
  {
   "cell_type": "markdown",
   "metadata": {},
   "source": [
    "### Async Messaging: Actor model"
   ]
  },
  {
   "cell_type": "markdown",
   "metadata": {},
   "source": [
    "* Hewitt, Meijer and Szyperski: **The Actor Model (everything you wanted to know...)** /[video](https://www.youtube.com/watch?v=7erJ1DV_Tlo)/"
   ]
  },
  {
   "cell_type": "markdown",
   "metadata": {},
   "source": [
    "## Type Systems"
   ]
  },
  {
   "cell_type": "markdown",
   "metadata": {},
   "source": [
    "In programming languages, a **type system** is a *logical system* built upon a set of rules that assigns a property called a type (class) to the various constructs of a computer program or parts of an object graph in our case. The use of this type system formalism enforces the correct application of categories the programmer uses for building algebraic data types, data structures, and other components assembled from elements available in a system (for example it forces the correct combinations of such elements as String, Vector of Numbers, Function returns Bool, etc). The *main purpose of a type system* is to **reduce bugs** in a computer system specification by defining interfaces and relations between different parts of a system, and then checking that all these parts were connected in a consistent way. "
   ]
  },
  {
   "cell_type": "markdown",
   "metadata": {},
   "source": [
    "The importance of type checker (can be included as an optional part or external tool) in a software development system is preventing a lot of errors in executable specifications and data combining before these executable data will be run. For a generic application programming methods of type control can be very useful for such tasks as a business process description, and arbitrary data transformations."
   ]
  },
  {
   "cell_type": "markdown",
   "metadata": {},
   "source": [
    "* https://en.wikipedia.org/wiki/Type_system\n",
    "* https://www.youtube.com/watch?v=gTrU_BxWH7c\n",
    "* https://www.youtube.com/watch?v=hy1wjkcIBCU"
   ]
  },
  {
   "cell_type": "markdown",
   "metadata": {},
   "source": [
    "## Automated Code Generation"
   ]
  },
  {
   "cell_type": "markdown",
   "metadata": {},
   "source": [
    "Compiling application graph models into static code for embedded systems.\n",
    "\n",
    "* https://wiki.c2.com/?AutomatedCodeGeneration\n",
    "\n",
    "Target systems:\n",
    "* ARM Cortex-M (most wide and used microcontrollers family)\n",
    "* embedded Linux (mostly Web hosting variant + home routers)\n",
    "\n",
    "Target language candidates:\n",
    "* ANSI C (embedded dialects)<br>required to be compatible with most development teams\n",
    "* Rust<br>perspective language with rigid type system good for error checking\n",
    "* LLVM IR (most low-level)<br>can be good for narrow tasks like parsers and tiny computation blocks\n",
    "* Python<br>metacircular graph engine (re)implementation"
   ]
  },
  {
   "cell_type": "markdown",
   "metadata": {},
   "source": [
    "## Android"
   ]
  },
  {
   "cell_type": "markdown",
   "metadata": {},
   "source": [
    "The most widely used mobile platform is Android:\n",
    "* low-price devices\n",
    "* no-cost development tools and deployment\n",
    "\n",
    "Disadvantages:\n",
    "- requires native Java & NDK development, or\n",
    "- requires special tools and methods to port from Python/Web to mobile Web app able to run in offline\n",
    "\n",
    "- **Native Java & NDK**: full control of the device, any service available without any problems.\n",
    "- *PhoneGap*s build a bridge between Web and mobile platform using mobile browser or WebView OS component and a lot of intermediate library layers: slow, memory/RAM hungry, especially slow start, a lot of dependences\n",
    "  - Cordova\n",
    "  - PWA: Progressive Web App\n",
    "  - React Native"
   ]
  },
  {
   "cell_type": "markdown",
   "metadata": {},
   "source": [
    "## Metacircular Implementation"
   ]
  },
  {
   "cell_type": "markdown",
   "metadata": {},
   "source": [
    "*Metacircular implementation* of a programming language means that it is *implemented in itself*. In the case of the interpreter, it also can mean that the **guest language** works *using the runtime* of a **host language**, and it is easier to write a whole system.\n",
    "\n",
    "In books for many programming languages with names like \"The Language and its implementation\", it is a common case to describe semantics or even tiny implementation of a described language. This like section presents in a manual combines many goals:\n",
    "* shows a real usage of a language used for relatively complex task such as interpreter/compiler coding\n",
    "* describes many details of internal mechanics and the language semantics\n",
    "* test interpreter/compiler over a set of complex source code of itself\n",
    "* demonstrates the advantages and misses of the language such as syntax readability, expressiveness, flexibility, use of core libraries, etc.\n",
    "\n",
    "Since we describe the system which targets on replacement of general-purpose languages, it is a good practice to include a special section with the metacircular implementation of the system to show its advantages over classical ways of software development.\n",
    "\n",
    "Providing ready to use metasystem in a bundle with this manual can also be a workaround about copyright laws and license limitations, as you can use it to brew your own derived system not covered by restrictions. Thus this work goes under OpenSource license to protect described technology from the [Smalltalk price-induced death](http://wiki.c2.com/?WhyIsSmalltalkDead) and commercial capture, but you can reimplement it for your own needs."
   ]
  },
  {
   "cell_type": "markdown",
   "metadata": {},
   "source": [
    "## References"
   ]
  },
  {
   "cell_type": "markdown",
   "metadata": {},
   "source": [
    "[minsky] Marvin Minsky **Frames for data representation** [html](https://web.media.mit.edu/~minsky/papers/Frames/frames.html)\n",
    "\n",
    "[tyugu] Э.Х.Тыугу **Концептуальное программирование**. М.: Наука, 1984. 255 с [djvu](https://github.com/ponyatov/OGP/releases/download/260420-5d5e/ConceptProg.ru.djvu)\n",
    "\n",
    "[sym88] J. Symbolic Computation (1988) 5, 359-375\\ **The Programming System PRIZ**<br>\\ G.Mints, E.Tyugu, Institute of Cybernetics, Estonian Academy of Sciences,Tallinn 200108, USSR \\ [pdf](https://www.academia.edu/18315153/The_programming_system_PRIZ?auto=download)\n",
    "\n",
    "[priz] **Инструментальная система программирования ЕС ЭВМ (ПРИЗ)** / М.И. Кахро, А.П. Калья, Энн Харальдович Тыугу . – Изд. 2-е – Москва : Финансы и статистика, 1988 . – 181 с ISBN 5-279-00111-2 [pdf](https://github.com/ponyatov/OGP/releases/download/260420-5d5e/PRIZ.ru.pdf)\n",
    "\n",
    "[starting] Leo Brodie **Starting FORTH** [html](https://www.forth.com/starting-forth/)\n",
    "\n",
    "[kelly] M.G.Kelly, N.Spies **Forth - A Text and Reference** [amazon](https://www.amazon.com/Forth-Text-Reference-Prentice-Hall-Software/dp/0133263312) | [ru.djvu](https://github.com/ponyatov/OGP/releases/download/260420-5d5e/KellySpies.ru.djvu)\n",
    "\n",
    "[cactus] http://www.forth.org.ru/~cactus/library.htm (ru)\n",
    "\n",
    "[psicc2] Miro Samek **Practical UML Statecharts in C/C++**, 2nd Edition:\n",
    "Event-Driven Programming for Embedded Systems [html](https://www.state-machine.com/psicc2/) | [pdf](https://sourceforge.net/projects/qpc/files/doc/PSiCC2.pdf)\n",
    "\n",
    "[lucid] William W. Wadge **Lucid, the dataflow programming language**\n",
    "\n",
    "[pierce] Benjamin C. Pierce **Types and Programming Languages**\n",
    "\n",
    "[pierceru] Пирс Бенджамин **Типы в языках программирования** /[ozon](https://www.ozon.ru/context/detail/id/7410082/)/"
   ]
  },
  {
   "cell_type": "code",
   "execution_count": null,
   "metadata": {},
   "outputs": [],
   "source": []
  }
 ],
 "metadata": {
  "kernelspec": {
   "display_name": "Python 3",
   "language": "python",
   "name": "python3"
  },
  "language_info": {
   "codemirror_mode": {
    "name": "ipython",
    "version": 3
   },
   "file_extension": ".py",
   "mimetype": "text/x-python",
   "name": "python",
   "nbconvert_exporter": "python",
   "pygments_lexer": "ipython3",
   "version": "3.7.3"
  }
 },
 "nbformat": 4,
 "nbformat_minor": 4
}
