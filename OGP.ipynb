{
 "cells": [
  {
   "cell_type": "markdown",
   "metadata": {},
   "source": [
    "# State Machine and Object Graph Programming"
   ]
  },
  {
   "cell_type": "markdown",
   "metadata": {},
   "source": [
    "* (c) Dmitry Ponyatov <<dponyatov@gmail.com>>\n",
    "* (c) Valeri Rakitine https://www.linkedin.com/in/valrakitine/"
   ]
  },
  {
   "cell_type": "markdown",
   "metadata": {},
   "source": [
    "### Install (Linux)\n",
    "\n",
    "```\n",
    "~$ git clone -o gh https://github.com/ponyatov/OGP.git\n",
    "~$ cd OGP\n",
    "~/OGP$ make install\n",
    "```\n",
    "### Run\n",
    "```\n",
    "~/OGP$ make jupyter\n",
    "```"
   ]
  }
 ],
 "metadata": {
  "kernelspec": {
   "display_name": "Python 3",
   "language": "python",
   "name": "python3"
  },
  "language_info": {
   "codemirror_mode": {
    "name": "ipython",
    "version": 3
   },
   "file_extension": ".py",
   "mimetype": "text/x-python",
   "name": "python",
   "nbconvert_exporter": "python",
   "pygments_lexer": "ipython3",
   "version": "3.7.3"
  }
 },
 "nbformat": 4,
 "nbformat_minor": 4
}
