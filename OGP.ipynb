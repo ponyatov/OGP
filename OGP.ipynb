{
 "cells": [
  {
   "cell_type": "markdown",
   "metadata": {},
   "source": [
    "# State Machine and Object Graph Programming"
   ]
  },
  {
   "cell_type": "markdown",
   "metadata": {},
   "source": [
    "* (c) Dmitry Ponyatov <<dponyatov@gmail.com>>\n",
    "* (c) Valeri Rakitine https://www.linkedin.com/in/valrakitine/"
   ]
  },
  {
   "cell_type": "markdown",
   "metadata": {},
   "source": [
    "#### Install (Linux)\n",
    "\n",
    "```\n",
    "~$ git clone -o gh https://github.com/ponyatov/OGP.git\n",
    "~$ cd OGP\n",
    "~/OGP$ make install\n",
    "```\n",
    "#### Run\n",
    "```\n",
    "~/OGP$ make jupyter\n",
    "```"
   ]
  },
  {
   "cell_type": "markdown",
   "metadata": {},
   "source": [
    "## Concept Programming"
   ]
  },
  {
   "cell_type": "markdown",
   "metadata": {},
   "source": [
    "CP here is a programming model described in the works of Enn Heraldovich Tyugu about model-based software development. It is not mean [the term by Alexsandr Stepanov](https://en.wikipedia.org/wiki/Concept_(generic_programming)) here. The common idea is about making domain models describe the problem in a wide in the form of relation networks, and automatic program (code) synthesis from specifications to solve concrete tasks. This synthesis works over these networks using them as generic knowledge representation."
   ]
  },
  {
   "cell_type": "markdown",
   "metadata": {},
   "source": [
    "* http://www.cs.ioc.ee/~tyugu/\n",
    "* [Концептуальное программирование](https://ru.wikipedia.org/wiki/%D0%9A%D0%BE%D0%BD%D1%86%D0%B5%D0%BF%D1%82%D1%83%D0%B0%D0%BB%D1%8C%D0%BD%D0%BE%D0%B5_%D0%BF%D1%80%D0%BE%D0%B3%D1%80%D0%B0%D0%BC%D0%BC%D0%B8%D1%80%D0%BE%D0%B2%D0%B0%D0%BD%D0%B8%D0%B5)\n",
    "* Э.Х.Тыугу **Концептуальное программирование**. [2]\n",
    "* J. Symbolic Computation (1988) 5, 359-375\\ **The Programming System PRIZ** [3]"
   ]
  },
  {
   "cell_type": "code",
   "execution_count": 1,
   "metadata": {},
   "outputs": [],
   "source": [
    "import os\n",
    "import sys\n",
    "from graphviz import Digraph"
   ]
  },
  {
   "cell_type": "markdown",
   "metadata": {},
   "source": [
    "## Base Node Class"
   ]
  },
  {
   "cell_type": "markdown",
   "metadata": {},
   "source": [
    "The core of the graph interpreter system is a homoiconic model uses a directed graph of objects as both program and data representation. The idea was taken from [1] and extended with the ability to store not only slots (attributes) but also hold any frames in an ordered container.\n",
    "* https://www.youtube.com/watch?v=nXJ_2uGWM-M\n",
    "\n",
    "Frames originated as a technology used for knowledge representation in artificial intelligence. They are very close to objects and class hierarchies in object-oriented languages although their fundamental design goals are different. Frames are focused on the explicit and intuitive representation of knowledge whereas objects focus on encapsulation and binding data with processing procedures. Original Marvin Minsky's concept *lacks some principal features for software design*, so it must be extended with the ability to *store sequential collections*.\n",
    "\n",
    "In practice, the techniques and capabilities of the frame model and object-oriented languages overlap significantly so much as we can treat frames not only a native superset of OOP but they drastically extend object design concepts wider: we can represent any knowledge in frames, and use any programming paradigms as we desire."
   ]
  },
  {
   "cell_type": "code",
   "execution_count": 2,
   "metadata": {},
   "outputs": [],
   "source": [
    "class Frame:\n",
    "    def __init__(self, V):\n",
    "        # scalar data value\n",
    "        # mostly names the frame, but also can store things like numbers and strings\n",
    "        self.val = V\n",
    "        # named slots = attributes = string-keyed associative array\n",
    "        self.slot = {}\n",
    "        # ordered storage = program AST nested elemens = vector = stack\n",
    "        self.nest = []\n",
    "        # unique storage id (Redis,RDBMS,..)\n",
    "        self.sid = '@%x' % id(self)"
   ]
  },
  {
   "cell_type": "markdown",
   "metadata": {},
   "source": [
    "This data node structure which combines named slots with the ordered collection is definitively required for representing any program source code, as this is very close to classical AST and attribute grammar but uses graph in place of the attributed tree. The object graph (frame) representation of a program as a primary form is effective and *native for any work involved with source code transformations*: synthesis, modifications, analysis, cross-language translation, etc."
   ]
  },
  {
   "cell_type": "markdown",
   "metadata": {},
   "source": [
    "Factically, **we don't require any text programming language at all**, as this *Executable Data Structure* can\n",
    "* hold any program statically (as storage),\n",
    "* be executed by the EDS-interpreter, so it is *active data*\n",
    "* translated into any mainstream language or\n",
    "* [cross-]compiled into machine code."
   ]
  },
  {
   "cell_type": "markdown",
   "metadata": {},
   "source": [
    "### Homoiconic programming model"
   ]
  },
  {
   "cell_type": "markdown",
   "metadata": {},
   "source": [
    "**Homoiconicity** is a property of a programming language in which any program is simultaneously\n",
    "* an easy to modify *data structure*, and\n",
    "* an *executable program representation* (program source code).\n",
    "\n",
    "In a homoiconic language, a programmer does not just have access to the source code, but the language itself specifically provides tools and easy to use methods for convenient work with parts of programs (represented as generic data) in runtime.\n",
    "* Say, if you include source code of your program in C++ into the distribution package, you can work with the program code as data, but only at the level of text files, or using third-party analysis libraries. In the C++ language itself, there are no dedicated tools for reading, modifying, or generating source code.\n",
    "* Conversely, in the Lisp language, all programs are represented in the form of executable lists -- these lists are simultaneously a program and the usual universal data structure for working with which the language was specially created."
   ]
  },
  {
   "cell_type": "markdown",
   "metadata": {},
   "source": [
    "### EDS Interpreter"
   ]
  },
  {
   "cell_type": "markdown",
   "metadata": {},
   "source": [
    "In order to use the advantages of homoiconicity in your programs written in any conventional languages (C++, Java,..), you need to integrate an EDS-interpreter into your programs that will\n",
    "* *execute some data structure as a program*, and additionally\n",
    "* provides high-level *tools for modifying it* in runtime.\n",
    "\n",
    "It is not necessary that this interpreter should include a parser of some scripting language, as graph structure can be generated by code in the *implementation* language, and structure self-transformation. To create a program in such a system, you only need to have any way to create an executable data structure in memory: it can be GUI-based drawing, text format parser, external graph database, or some C++ code that forces the compiler to include such a structure in the executable file statically."
   ]
  },
  {
   "cell_type": "markdown",
   "metadata": {},
   "source": [
    "### Metaprogramming"
   ]
  },
  {
   "cell_type": "markdown",
   "metadata": {},
   "source": [
    "Metaprogramming -- when one program modifies (generates) another program, including itself.\n",
    "\n",
    "Metaprogramming is a method of boosting your efficiency as a programmer by expanding the language you use. If you write very similar code every day, in languages ​​that can do meta (Lisp, Nim), you can write small macro programs that will run during the compilation stage, and generate new code by a template, or modify an existing code the way as you need it. Factically, you can add to the language those features that are needed for a narrow set of your specific tasks.\n",
    "\n",
    "In order to be able to use metaprogramming in a full scale, the language or programming system you are using must be homoiconic. If you want to use this method with industrial programming languages, the use of an EDS interpreter will allow you to quickly and conveniently solve your problems, paying for it with some losses in the speed of programs and memory usage (see a comparison of interpreters vs the compilers into machine code)."
   ]
  },
  {
   "cell_type": "markdown",
   "metadata": {},
   "source": [
    "## Dump and plot"
   ]
  },
  {
   "cell_type": "markdown",
   "metadata": {},
   "source": [
    "To display an object graph in a human-readable form, we need a way to print in a text form and show it in a graphical plot."
   ]
  },
  {
   "cell_type": "markdown",
   "metadata": {},
   "source": [
    "### Text tree dump"
   ]
  },
  {
   "cell_type": "code",
   "execution_count": 3,
   "metadata": {},
   "outputs": [],
   "source": [
    "class Frame(Frame):\n",
    "\n",
    "    # callback for print\n",
    "    def __repr__(self): return self.dump(test=False)\n",
    "\n",
    "    # full tree dump\n",
    "    def dump(self, done=None, depth=0, prefix='', test=False):\n",
    "        # subtree header\n",
    "        tree = self.pad(depth) + self.head(prefix, test)\n",
    "        # block infinitive recursion on graph cycles\n",
    "        if not done:\n",
    "            done = set()  # initialize in the recursion root\n",
    "        if self in done:\n",
    "            return tree + ' _/'\n",
    "        else:\n",
    "            done.add(self)\n",
    "        # slot{}s\n",
    "        for i in self.slot:\n",
    "            tree += self.slot[i].dump(done, depth+1, '%s = ' % i, test)\n",
    "        # nest[]ed\n",
    "        idx = 0\n",
    "        for j in self.nest:\n",
    "            tree += j.dump(done, depth+1, '%s = ' % idx, test)\n",
    "            idx += 1\n",
    "        # resulting subtree\n",
    "        return tree\n",
    "\n",
    "    # short-form dump: <T:V> header only\n",
    "    def head(self, prefix='', test=False):\n",
    "        header = '%s<%s:%s>' % (prefix, self._type(), self._val())\n",
    "        if not test:\n",
    "            header += ' %s' % self.sid\n",
    "        return header\n",
    "\n",
    "    # tree padding\n",
    "    def pad(self, depth): return '\\n' + '\\t' * depth\n",
    "    \n",
    "    # type/class tag\n",
    "    def _type(self): return self.__class__.__name__.lower()\n",
    "    \n",
    "    # .val dump must be tunable for strings, numbers,..\n",
    "    def _val(self): return '%s' % self.val"
   ]
  },
  {
   "cell_type": "code",
   "execution_count": 4,
   "metadata": {},
   "outputs": [
    {
     "name": "stdout",
     "output_type": "stream",
     "text": [
      "\n",
      "<frame:Hello> @7f82c85866a0\n"
     ]
    }
   ],
   "source": [
    "# test\n",
    "print(Frame('Hello'))"
   ]
  },
  {
   "cell_type": "markdown",
   "metadata": {},
   "source": [
    "## References"
   ]
  },
  {
   "cell_type": "markdown",
   "metadata": {},
   "source": [
    "#1 Marvin Minsky **Frames for data representation** [html](https://web.media.mit.edu/~minsky/papers/Frames/frames.html)\n",
    "#2 Э.Х.Тыугу Концептуальное программирование. М.: Наука, 1984. 255 с\n",
    "#3 J. Symbolic Computation (1988) 5, 359-375\\ **The Programming System PRIZ**<br>\\ G.Mints, E.Tyugu, Institute of Cybernetics, Estonian Academy of Sciences,Tallinn 200108, USSR \\ [pdf](https://www.academia.edu/18315153/The_programming_system_PRIZ?auto=download)"
   ]
  }
 ],
 "metadata": {
  "kernelspec": {
   "display_name": "Python 3",
   "language": "python",
   "name": "python3"
  },
  "language_info": {
   "codemirror_mode": {
    "name": "ipython",
    "version": 3
   },
   "file_extension": ".py",
   "mimetype": "text/x-python",
   "name": "python",
   "nbconvert_exporter": "python",
   "pygments_lexer": "ipython3",
   "version": "3.7.3"
  }
 },
 "nbformat": 4,
 "nbformat_minor": 4
}
